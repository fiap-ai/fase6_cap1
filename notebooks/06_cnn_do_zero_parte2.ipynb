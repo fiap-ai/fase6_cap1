{
 "cells": [
  {
   "cell_type": "markdown",
   "metadata": {},
   "source": [
    "# Treinamento de CNN do Zero - Parte 2: Treinamento\n",
    "\n",
    "Este notebook implementa a segunda parte do treinamento de uma Rede Neural Convolucional (CNN) do zero para classificar imagens nas mesmas categorias que usamos nos modelos YOLO.\n",
    "\n",
    "Nesta segunda parte, vamos focar no treinamento da CNN."
   ]
  },
  {
   "cell_type": "markdown",
   "metadata": {},
   "source": [
    "## 1. Configuração do Ambiente\n",
    "\n",
    "Primeiro, vamos importar as bibliotecas necessárias e configurar o ambiente."
   ]
  },
  {
   "cell_type": "code",
   "execution_count": 1,
   "metadata": {},
   "outputs": [
    {
     "name": "stdout",
     "output_type": "stream",
     "text": [
      "Ambiente já configurado.\n"
     ]
    }
   ],
   "source": [
    "# Verificar se o ambiente já foi configurado\n",
    "import os\n",
    "import sys\n",
    "\n",
    "# Se o ambiente ainda não foi configurado, execute o setup_env.sh\n",
    "if not os.path.exists('../yolov5'):\n",
    "    print(\"Configurando o ambiente com setup_env.sh...\")\n",
    "    !chmod +x ../setup_env.sh\n",
    "    !../setup_env.sh\n",
    "else:\n",
    "    print(\"Ambiente já configurado.\")\n",
    "\n",
    "# Importar bibliotecas\n",
    "import numpy as np\n",
    "import pandas as pd\n",
    "import matplotlib.pyplot as plt\n",
    "import cv2\n",
    "import torch\n",
    "import torch.nn as nn\n",
    "import torch.optim as optim\n",
    "import torch.nn.functional as F\n",
    "from torch.utils.data import Dataset, DataLoader\n",
    "from torchvision import transforms\n",
    "import yaml\n",
    "import time\n",
    "from pathlib import Path\n",
    "from tqdm.notebook import tqdm"
   ]
  },
  {
   "cell_type": "markdown",
   "metadata": {},
   "source": [
    "## 2. Carregamento dos Dados Preparados\n",
    "\n",
    "Vamos carregar os dados preparados na primeira parte do notebook."
   ]
  },
  {
   "cell_type": "code",
   "execution_count": 2,
   "metadata": {},
   "outputs": [
    {
     "name": "stdout",
     "output_type": "stream",
     "text": [
      "✅ Arquivo '../models/cnn/cnn_initial.pt' encontrado.\n",
      "✅ Arquivo '../models/cnn/cnn_categories.txt' encontrado.\n",
      "Categorias: ['apple', 'banana']\n",
      "✅ Diretório encontrado: ../dataset/train/images\n",
      "   Número de imagens: 64\n",
      "✅ Diretório encontrado: ../dataset/val/images\n",
      "   Número de imagens: 8\n",
      "✅ Diretório encontrado: ../dataset/test/images\n",
      "   Número de imagens: 8\n"
     ]
    }
   ],
   "source": [
    "# Verificar se os arquivos necessários existem\n",
    "if not os.path.exists('../models/cnn/cnn_initial.pt'):\n",
    "    print(\"❌ Arquivo '../models/cnn/cnn_initial.pt' não encontrado. Execute a Parte 1 primeiro.\")\n",
    "else:\n",
    "    print(\"✅ Arquivo '../models/cnn/cnn_initial.pt' encontrado.\")\n",
    "\n",
    "if not os.path.exists('../models/cnn/cnn_categories.txt'):\n",
    "    print(\"❌ Arquivo '../models/cnn/cnn_categories.txt' não encontrado. Execute a Parte 1 primeiro.\")\n",
    "    # Usar categorias padrão\n",
    "    categories = ['apple', 'banana']\n",
    "else:\n",
    "    print(\"✅ Arquivo '../models/cnn/cnn_categories.txt' encontrado.\")\n",
    "    # Carregar categorias\n",
    "    with open('../models/cnn/cnn_categories.txt', 'r') as f:\n",
    "        categories = [line.strip() for line in f.readlines()]\n",
    "    print(f\"Categorias: {categories}\")\n",
    "\n",
    "# Definir diretórios de dados\n",
    "train_dir = '../dataset/train/images'\n",
    "val_dir = '../dataset/val/images'\n",
    "test_dir = '../dataset/test/images'\n",
    "\n",
    "# Verificar se os diretórios existem\n",
    "for dir_path in [train_dir, val_dir, test_dir]:\n",
    "    if not os.path.exists(dir_path):\n",
    "        print(f\"❌ Diretório não encontrado: {dir_path}\")\n",
    "    else:\n",
    "        print(f\"✅ Diretório encontrado: {dir_path}\")\n",
    "        print(f\"   Número de imagens: {len([f for f in os.listdir(dir_path) if f.endswith(('.jpg', '.jpeg', '.png', '.avif'))])}\")"
   ]
  },
  {
   "cell_type": "markdown",
   "metadata": {},
   "source": [
    "### 2.1 Recriação dos Datasets e DataLoaders\n",
    "\n",
    "Vamos recriar os datasets e dataloaders para o treinamento."
   ]
  },
  {
   "cell_type": "code",
   "execution_count": 3,
   "metadata": {},
   "outputs": [
    {
     "name": "stdout",
     "output_type": "stream",
     "text": [
      "Tamanho do dataset de treino: 64\n",
      "Tamanho do dataset de validação: 8\n"
     ]
    }
   ],
   "source": [
    "# Definir transformações para as imagens\n",
    "train_transforms = transforms.Compose([\n",
    "    transforms.ToPILImage(),\n",
    "    transforms.Resize((224, 224)),\n",
    "    transforms.RandomHorizontalFlip(),\n",
    "    transforms.RandomRotation(10),\n",
    "    transforms.ColorJitter(brightness=0.2, contrast=0.2, saturation=0.2),\n",
    "    transforms.ToTensor(),\n",
    "    transforms.Normalize(mean=[0.485, 0.456, 0.406], std=[0.229, 0.224, 0.225])\n",
    "])\n",
    "\n",
    "val_test_transforms = transforms.Compose([\n",
    "    transforms.ToPILImage(),\n",
    "    transforms.Resize((224, 224)),\n",
    "    transforms.ToTensor(),\n",
    "    transforms.Normalize(mean=[0.485, 0.456, 0.406], std=[0.229, 0.224, 0.225])\n",
    "])\n",
    "\n",
    "# Classe personalizada para o dataset\n",
    "class CustomImageDataset(Dataset):\n",
    "    def __init__(self, img_dir, categories, transform=None):\n",
    "        self.img_dir = img_dir\n",
    "        self.transform = transform\n",
    "        self.categories = categories\n",
    "        \n",
    "        # Listar todas as imagens\n",
    "        self.img_files = [f for f in os.listdir(img_dir) if f.endswith(('.jpg', '.jpeg', '.png', '.avif'))]\n",
    "        \n",
    "        # Determinar a classe de cada imagem com base no nome do arquivo\n",
    "        self.labels = []\n",
    "        for img_file in self.img_files:\n",
    "            # Assumindo que o nome do arquivo começa com o nome da categoria\n",
    "            # Por exemplo: categoria_a_001.jpg -> categoria_a\n",
    "            for i, category in enumerate(categories):\n",
    "                if category.lower() in img_file.lower():\n",
    "                    self.labels.append(i)\n",
    "                    break\n",
    "            else:\n",
    "                # Se não encontrar a categoria no nome do arquivo, usar a primeira categoria\n",
    "                self.labels.append(0)\n",
    "    \n",
    "    def __len__(self):\n",
    "        return len(self.img_files)\n",
    "    \n",
    "    def __getitem__(self, idx):\n",
    "        img_path = os.path.join(self.img_dir, self.img_files[idx])\n",
    "        image = cv2.imread(img_path)\n",
    "        image = cv2.cvtColor(image, cv2.COLOR_BGR2RGB)\n",
    "        label = self.labels[idx]\n",
    "        \n",
    "        if self.transform:\n",
    "            image = self.transform(image)\n",
    "        \n",
    "        return image, label\n",
    "\n",
    "# Criar datasets\n",
    "train_dataset = CustomImageDataset(train_dir, categories, transform=train_transforms)\n",
    "val_dataset = CustomImageDataset(val_dir, categories, transform=val_test_transforms)\n",
    "\n",
    "# Criar dataloaders\n",
    "batch_size = 16\n",
    "train_loader = DataLoader(train_dataset, batch_size=batch_size, shuffle=True)\n",
    "val_loader = DataLoader(val_dataset, batch_size=batch_size)\n",
    "\n",
    "# Verificar os datasets\n",
    "print(f\"Tamanho do dataset de treino: {len(train_dataset)}\")\n",
    "print(f\"Tamanho do dataset de validação: {len(val_dataset)}\")"
   ]
  },
  {
   "cell_type": "markdown",
   "metadata": {},
   "source": [
    "### 2.2 Recriação do Modelo\n",
    "\n",
    "Vamos recriar o modelo CNN e carregar os pesos iniciais."
   ]
  },
  {
   "cell_type": "code",
   "execution_count": 4,
   "metadata": {},
   "outputs": [
    {
     "name": "stdout",
     "output_type": "stream",
     "text": [
      "Pesos iniciais carregados com sucesso.\n",
      "\n",
      "Total de parâmetros: 26,081,026\n",
      "Parâmetros treináveis: 26,081,026\n"
     ]
    }
   ],
   "source": [
    "# Definir a arquitetura da CNN\n",
    "class CustomCNN(nn.Module):\n",
    "    def __init__(self, num_classes):\n",
    "        super(CustomCNN, self).__init__()\n",
    "        \n",
    "        # Camadas convolucionais\n",
    "        self.conv1 = nn.Conv2d(3, 32, kernel_size=3, padding=1)\n",
    "        self.conv2 = nn.Conv2d(32, 64, kernel_size=3, padding=1)\n",
    "        self.conv3 = nn.Conv2d(64, 128, kernel_size=3, padding=1)\n",
    "        self.conv4 = nn.Conv2d(128, 256, kernel_size=3, padding=1)\n",
    "        \n",
    "        # Camadas de pooling\n",
    "        self.pool = nn.MaxPool2d(kernel_size=2, stride=2)\n",
    "        \n",
    "        # Camadas de batch normalization\n",
    "        self.bn1 = nn.BatchNorm2d(32)\n",
    "        self.bn2 = nn.BatchNorm2d(64)\n",
    "        self.bn3 = nn.BatchNorm2d(128)\n",
    "        self.bn4 = nn.BatchNorm2d(256)\n",
    "        \n",
    "        # Camadas fully connected\n",
    "        self.fc1 = nn.Linear(256 * 14 * 14, 512)\n",
    "        self.fc2 = nn.Linear(512, num_classes)\n",
    "        \n",
    "        # Dropout\n",
    "        self.dropout = nn.Dropout(0.5)\n",
    "    \n",
    "    def forward(self, x):\n",
    "        # Bloco 1\n",
    "        x = self.pool(F.relu(self.bn1(self.conv1(x))))\n",
    "        \n",
    "        # Bloco 2\n",
    "        x = self.pool(F.relu(self.bn2(self.conv2(x))))\n",
    "        \n",
    "        # Bloco 3\n",
    "        x = self.pool(F.relu(self.bn3(self.conv3(x))))\n",
    "        \n",
    "        # Bloco 4\n",
    "        x = self.pool(F.relu(self.bn4(self.conv4(x))))\n",
    "        \n",
    "        # Flatten\n",
    "        x = x.view(x.size(0), -1)\n",
    "        \n",
    "        # Fully connected\n",
    "        x = F.relu(self.fc1(x))\n",
    "        x = self.dropout(x)\n",
    "        x = self.fc2(x)\n",
    "        \n",
    "        return x\n",
    "\n",
    "# Criar o modelo\n",
    "model = CustomCNN(num_classes=len(categories))\n",
    "\n",
    "# Carregar os pesos iniciais\n",
    "if os.path.exists('../models/cnn/cnn_initial.pt'):\n",
    "    model.load_state_dict(torch.load('../models/cnn/cnn_initial.pt'))\n",
    "    print(\"Pesos iniciais carregados com sucesso.\")\n",
    "else:\n",
    "    print(\"Pesos iniciais não encontrados. Usando inicialização aleatória.\")\n",
    "\n",
    "# Verificar o número de parâmetros\n",
    "total_params = sum(p.numel() for p in model.parameters())\n",
    "trainable_params = sum(p.numel() for p in model.parameters() if p.requires_grad)\n",
    "print(f\"\\nTotal de parâmetros: {total_params:,}\")\n",
    "print(f\"Parâmetros treináveis: {trainable_params:,}\")"
   ]
  },
  {
   "cell_type": "markdown",
   "metadata": {},
   "source": [
    "## 3. Treinamento da CNN\n",
    "\n",
    "Vamos treinar a CNN do zero."
   ]
  },
  {
   "cell_type": "code",
   "execution_count": 5,
   "metadata": {},
   "outputs": [
    {
     "name": "stdout",
     "output_type": "stream",
     "text": [
      "Usando dispositivo: cpu\n"
     ]
    }
   ],
   "source": [
    "# Definir o dispositivo (GPU se disponível, senão CPU)\n",
    "device = torch.device(\"cuda:0\" if torch.cuda.is_available() else \"cpu\")\n",
    "print(f\"Usando dispositivo: {device}\")\n",
    "\n",
    "# Mover o modelo para o dispositivo\n",
    "model = model.to(device)\n",
    "\n",
    "# Definir função de perda e otimizador\n",
    "criterion = nn.CrossEntropyLoss()\n",
    "optimizer = optim.Adam(model.parameters(), lr=0.001)\n",
    "scheduler = optim.lr_scheduler.ReduceLROnPlateau(optimizer, mode='min', factor=0.1, patience=5)\n",
    "\n",
    "# Função para treinar o modelo por uma época\n",
    "def train_epoch(model, dataloader, criterion, optimizer, device):\n",
    "    model.train()\n",
    "    running_loss = 0.0\n",
    "    correct = 0\n",
    "    total = 0\n",
    "    \n",
    "    for inputs, labels in tqdm(dataloader, desc=\"Treinando\"):\n",
    "        inputs, labels = inputs.to(device), labels.to(device)\n",
    "        \n",
    "        # Zerar os gradientes\n",
    "        optimizer.zero_grad()\n",
    "        \n",
    "        # Forward pass\n",
    "        outputs = model(inputs)\n",
    "        loss = criterion(outputs, labels)\n",
    "        \n",
    "        # Backward pass e otimização\n",
    "        loss.backward()\n",
    "        optimizer.step()\n",
    "        \n",
    "        # Estatísticas\n",
    "        running_loss += loss.item() * inputs.size(0)\n",
    "        _, predicted = torch.max(outputs, 1)\n",
    "        total += labels.size(0)\n",
    "        correct += (predicted == labels).sum().item()\n",
    "    \n",
    "    epoch_loss = running_loss / total\n",
    "    epoch_acc = correct / total\n",
    "    \n",
    "    return epoch_loss, epoch_acc\n",
    "\n",
    "# Função para validar o modelo\n",
    "def validate(model, dataloader, criterion, device):\n",
    "    model.eval()\n",
    "    running_loss = 0.0\n",
    "    correct = 0\n",
    "    total = 0\n",
    "    \n",
    "    with torch.no_grad():\n",
    "        for inputs, labels in tqdm(dataloader, desc=\"Validando\"):\n",
    "            inputs, labels = inputs.to(device), labels.to(device)\n",
    "            \n",
    "            # Forward pass\n",
    "            outputs = model(inputs)\n",
    "            loss = criterion(outputs, labels)\n",
    "            \n",
    "            # Estatísticas\n",
    "            running_loss += loss.item() * inputs.size(0)\n",
    "            _, predicted = torch.max(outputs, 1)\n",
    "            total += labels.size(0)\n",
    "            correct += (predicted == labels).sum().item()\n",
    "    \n",
    "    epoch_loss = running_loss / total\n",
    "    epoch_acc = correct / total\n",
    "    \n",
    "    return epoch_loss, epoch_acc"
   ]
  },
  {
   "cell_type": "code",
   "execution_count": null,
   "metadata": {},
   "outputs": [
    {
     "name": "stdout",
     "output_type": "stream",
     "text": [
      "Época 1/30\n"
     ]
    },
    {
     "data": {
      "application/vnd.jupyter.widget-view+json": {
       "model_id": "504b3d247bd2438892b5793cc768d209",
       "version_major": 2,
       "version_minor": 0
      },
      "text/plain": [
       "Treinando:   0%|          | 0/4 [00:00<?, ?it/s]"
      ]
     },
     "metadata": {},
     "output_type": "display_data"
    },
    {
     "data": {
      "application/vnd.jupyter.widget-view+json": {
       "model_id": "b690e447c74a4856b6fc1e7377e78cfa",
       "version_major": 2,
       "version_minor": 0
      },
      "text/plain": [
       "Validando:   0%|          | 0/1 [00:00<?, ?it/s]"
      ]
     },
     "metadata": {},
     "output_type": "display_data"
    },
    {
     "name": "stdout",
     "output_type": "stream",
     "text": [
      "Treino - Perda: 9.9185, Acurácia: 0.4531\n",
      "Validação - Perda: 3.2299, Acurácia: 0.5000\n",
      "Modelo salvo em ../models/cnn/cnn_best.pt\n",
      "\n",
      "Época 2/30\n"
     ]
    },
    {
     "data": {
      "application/vnd.jupyter.widget-view+json": {
       "model_id": "5035b3fed928447c9d4c1b219b3cc062",
       "version_major": 2,
       "version_minor": 0
      },
      "text/plain": [
       "Treinando:   0%|          | 0/4 [00:00<?, ?it/s]"
      ]
     },
     "metadata": {},
     "output_type": "display_data"
    },
    {
     "data": {
      "application/vnd.jupyter.widget-view+json": {
       "model_id": "c098e38807154e3a8cb13b76e7d4d97d",
       "version_major": 2,
       "version_minor": 0
      },
      "text/plain": [
       "Validando:   0%|          | 0/1 [00:00<?, ?it/s]"
      ]
     },
     "metadata": {},
     "output_type": "display_data"
    },
    {
     "name": "stdout",
     "output_type": "stream",
     "text": [
      "Treino - Perda: 10.2839, Acurácia: 0.7031\n",
      "Validação - Perda: 0.3817, Acurácia: 0.8750\n",
      "Modelo salvo em ../models/cnn/cnn_best.pt\n",
      "\n",
      "Época 3/30\n"
     ]
    },
    {
     "data": {
      "application/vnd.jupyter.widget-view+json": {
       "model_id": "b77168a1564e4a058e9c7560a74a2872",
       "version_major": 2,
       "version_minor": 0
      },
      "text/plain": [
       "Treinando:   0%|          | 0/4 [00:00<?, ?it/s]"
      ]
     },
     "metadata": {},
     "output_type": "display_data"
    },
    {
     "data": {
      "application/vnd.jupyter.widget-view+json": {
       "model_id": "2e952640dec3449b9cbdf7fba36aa1f5",
       "version_major": 2,
       "version_minor": 0
      },
      "text/plain": [
       "Validando:   0%|          | 0/1 [00:00<?, ?it/s]"
      ]
     },
     "metadata": {},
     "output_type": "display_data"
    },
    {
     "name": "stdout",
     "output_type": "stream",
     "text": [
      "Treino - Perda: 6.3902, Acurácia: 0.7031\n",
      "Validação - Perda: 0.0000, Acurácia: 1.0000\n",
      "Modelo salvo em ../models/cnn/cnn_best.pt\n",
      "\n",
      "Época 4/30\n"
     ]
    },
    {
     "data": {
      "application/vnd.jupyter.widget-view+json": {
       "model_id": "05f7a9c34a2d4a8ca9cf8036bbb301aa",
       "version_major": 2,
       "version_minor": 0
      },
      "text/plain": [
       "Treinando:   0%|          | 0/4 [00:00<?, ?it/s]"
      ]
     },
     "metadata": {},
     "output_type": "display_data"
    },
    {
     "data": {
      "application/vnd.jupyter.widget-view+json": {
       "model_id": "6137701944f64256b2f31f47f448ea10",
       "version_major": 2,
       "version_minor": 0
      },
      "text/plain": [
       "Validando:   0%|          | 0/1 [00:00<?, ?it/s]"
      ]
     },
     "metadata": {},
     "output_type": "display_data"
    },
    {
     "name": "stdout",
     "output_type": "stream",
     "text": [
      "Treino - Perda: 3.1263, Acurácia: 0.8438\n",
      "Validação - Perda: 0.0000, Acurácia: 1.0000\n",
      "Modelo salvo em ../models/cnn/cnn_best.pt\n",
      "\n",
      "Época 5/30\n"
     ]
    },
    {
     "data": {
      "application/vnd.jupyter.widget-view+json": {
       "model_id": "3d258a90b7924474ba96034140a9e608",
       "version_major": 2,
       "version_minor": 0
      },
      "text/plain": [
       "Treinando:   0%|          | 0/4 [00:00<?, ?it/s]"
      ]
     },
     "metadata": {},
     "output_type": "display_data"
    },
    {
     "data": {
      "application/vnd.jupyter.widget-view+json": {
       "model_id": "82faea69f777496dbaf1208c62a26b3f",
       "version_major": 2,
       "version_minor": 0
      },
      "text/plain": [
       "Validando:   0%|          | 0/1 [00:00<?, ?it/s]"
      ]
     },
     "metadata": {},
     "output_type": "display_data"
    },
    {
     "name": "stdout",
     "output_type": "stream",
     "text": [
      "Treino - Perda: 2.9327, Acurácia: 0.7969\n",
      "Validação - Perda: 0.0000, Acurácia: 1.0000\n",
      "\n",
      "Época 6/30\n"
     ]
    },
    {
     "data": {
      "application/vnd.jupyter.widget-view+json": {
       "model_id": "bf8f0a27950c482ab9816a483c4d155a",
       "version_major": 2,
       "version_minor": 0
      },
      "text/plain": [
       "Treinando:   0%|          | 0/4 [00:00<?, ?it/s]"
      ]
     },
     "metadata": {},
     "output_type": "display_data"
    },
    {
     "data": {
      "application/vnd.jupyter.widget-view+json": {
       "model_id": "7d8b2362f4f24b7ab372036644183530",
       "version_major": 2,
       "version_minor": 0
      },
      "text/plain": [
       "Validando:   0%|          | 0/1 [00:00<?, ?it/s]"
      ]
     },
     "metadata": {},
     "output_type": "display_data"
    },
    {
     "name": "stdout",
     "output_type": "stream",
     "text": [
      "Treino - Perda: 3.8207, Acurácia: 0.8750\n",
      "Validação - Perda: 3.2919, Acurácia: 0.6250\n",
      "\n",
      "Época 7/30\n"
     ]
    },
    {
     "data": {
      "application/vnd.jupyter.widget-view+json": {
       "model_id": "b18c38aa7b544362b0bca7b74838b0ab",
       "version_major": 2,
       "version_minor": 0
      },
      "text/plain": [
       "Treinando:   0%|          | 0/4 [00:00<?, ?it/s]"
      ]
     },
     "metadata": {},
     "output_type": "display_data"
    },
    {
     "data": {
      "application/vnd.jupyter.widget-view+json": {
       "model_id": "f3bba0db67de4e4785f20e80cc180b83",
       "version_major": 2,
       "version_minor": 0
      },
      "text/plain": [
       "Validando:   0%|          | 0/1 [00:00<?, ?it/s]"
      ]
     },
     "metadata": {},
     "output_type": "display_data"
    },
    {
     "name": "stdout",
     "output_type": "stream",
     "text": [
      "Treino - Perda: 6.9026, Acurácia: 0.8281\n",
      "Validação - Perda: 0.9472, Acurácia: 0.8750\n",
      "\n",
      "Época 8/30\n"
     ]
    },
    {
     "data": {
      "application/vnd.jupyter.widget-view+json": {
       "model_id": "d2c3628df74b471d8b844660c370eb7a",
       "version_major": 2,
       "version_minor": 0
      },
      "text/plain": [
       "Treinando:   0%|          | 0/4 [00:00<?, ?it/s]"
      ]
     },
     "metadata": {},
     "output_type": "display_data"
    },
    {
     "data": {
      "application/vnd.jupyter.widget-view+json": {
       "model_id": "cadb276efc9d4298ae7141bd57941199",
       "version_major": 2,
       "version_minor": 0
      },
      "text/plain": [
       "Validando:   0%|          | 0/1 [00:00<?, ?it/s]"
      ]
     },
     "metadata": {},
     "output_type": "display_data"
    },
    {
     "name": "stdout",
     "output_type": "stream",
     "text": [
      "Treino - Perda: 3.1825, Acurácia: 0.7188\n",
      "Validação - Perda: 3.0911, Acurácia: 0.8750\n",
      "\n",
      "Época 9/30\n"
     ]
    },
    {
     "data": {
      "application/vnd.jupyter.widget-view+json": {
       "model_id": "e18a4dc355f749d794367af50859dbe7",
       "version_major": 2,
       "version_minor": 0
      },
      "text/plain": [
       "Treinando:   0%|          | 0/4 [00:00<?, ?it/s]"
      ]
     },
     "metadata": {},
     "output_type": "display_data"
    },
    {
     "data": {
      "application/vnd.jupyter.widget-view+json": {
       "model_id": "2bd680292a854970a1e35de82cf5e528",
       "version_major": 2,
       "version_minor": 0
      },
      "text/plain": [
       "Validando:   0%|          | 0/1 [00:00<?, ?it/s]"
      ]
     },
     "metadata": {},
     "output_type": "display_data"
    },
    {
     "name": "stdout",
     "output_type": "stream",
     "text": [
      "Treino - Perda: 7.4346, Acurácia: 0.7656\n",
      "Validação - Perda: 1.2511, Acurácia: 0.8750\n",
      "\n",
      "Época 10/30\n"
     ]
    },
    {
     "data": {
      "application/vnd.jupyter.widget-view+json": {
       "model_id": "dfb85ac4c3d046a39c5e3df655582fc2",
       "version_major": 2,
       "version_minor": 0
      },
      "text/plain": [
       "Treinando:   0%|          | 0/4 [00:00<?, ?it/s]"
      ]
     },
     "metadata": {},
     "output_type": "display_data"
    },
    {
     "data": {
      "application/vnd.jupyter.widget-view+json": {
       "model_id": "9fa6343dd99247539c70139083a2673c",
       "version_major": 2,
       "version_minor": 0
      },
      "text/plain": [
       "Validando:   0%|          | 0/1 [00:00<?, ?it/s]"
      ]
     },
     "metadata": {},
     "output_type": "display_data"
    },
    {
     "name": "stdout",
     "output_type": "stream",
     "text": [
      "Treino - Perda: 6.3254, Acurácia: 0.7500\n",
      "Validação - Perda: 0.1025, Acurácia: 0.8750\n",
      "\n",
      "Época 11/30\n"
     ]
    },
    {
     "data": {
      "application/vnd.jupyter.widget-view+json": {
       "model_id": "a4321f7d498241668fdcebb99ee249d3",
       "version_major": 2,
       "version_minor": 0
      },
      "text/plain": [
       "Treinando:   0%|          | 0/4 [00:00<?, ?it/s]"
      ]
     },
     "metadata": {},
     "output_type": "display_data"
    },
    {
     "data": {
      "application/vnd.jupyter.widget-view+json": {
       "model_id": "960eb7b52185458681b6029243e23d0b",
       "version_major": 2,
       "version_minor": 0
      },
      "text/plain": [
       "Validando:   0%|          | 0/1 [00:00<?, ?it/s]"
      ]
     },
     "metadata": {},
     "output_type": "display_data"
    },
    {
     "name": "stdout",
     "output_type": "stream",
     "text": [
      "Treino - Perda: 2.4088, Acurácia: 0.8594\n",
      "Validação - Perda: 0.0000, Acurácia: 1.0000\n",
      "\n",
      "Época 12/30\n"
     ]
    },
    {
     "data": {
      "application/vnd.jupyter.widget-view+json": {
       "model_id": "5907211cf36a47349b823208499ac9a8",
       "version_major": 2,
       "version_minor": 0
      },
      "text/plain": [
       "Treinando:   0%|          | 0/4 [00:00<?, ?it/s]"
      ]
     },
     "metadata": {},
     "output_type": "display_data"
    },
    {
     "data": {
      "application/vnd.jupyter.widget-view+json": {
       "model_id": "b5b4fd1044044dcdba6418849d22ae48",
       "version_major": 2,
       "version_minor": 0
      },
      "text/plain": [
       "Validando:   0%|          | 0/1 [00:00<?, ?it/s]"
      ]
     },
     "metadata": {},
     "output_type": "display_data"
    },
    {
     "name": "stdout",
     "output_type": "stream",
     "text": [
      "Treino - Perda: 6.3904, Acurácia: 0.7656\n",
      "Validação - Perda: 0.0000, Acurácia: 1.0000\n",
      "\n",
      "Época 13/30\n"
     ]
    },
    {
     "data": {
      "application/vnd.jupyter.widget-view+json": {
       "model_id": "b73ffd6b50be472e8a5df43e8deaf1d9",
       "version_major": 2,
       "version_minor": 0
      },
      "text/plain": [
       "Treinando:   0%|          | 0/4 [00:00<?, ?it/s]"
      ]
     },
     "metadata": {},
     "output_type": "display_data"
    },
    {
     "data": {
      "application/vnd.jupyter.widget-view+json": {
       "model_id": "886ba9dcdb4b498d9a0276084bd329e4",
       "version_major": 2,
       "version_minor": 0
      },
      "text/plain": [
       "Validando:   0%|          | 0/1 [00:00<?, ?it/s]"
      ]
     },
     "metadata": {},
     "output_type": "display_data"
    },
    {
     "name": "stdout",
     "output_type": "stream",
     "text": [
      "Treino - Perda: 3.0038, Acurácia: 0.8281\n",
      "Validação - Perda: 0.0000, Acurácia: 1.0000\n",
      "\n",
      "Época 14/30\n"
     ]
    },
    {
     "data": {
      "application/vnd.jupyter.widget-view+json": {
       "model_id": "1c19ba70d1614413acc56ae9d5733dc3",
       "version_major": 2,
       "version_minor": 0
      },
      "text/plain": [
       "Treinando:   0%|          | 0/4 [00:00<?, ?it/s]"
      ]
     },
     "metadata": {},
     "output_type": "display_data"
    },
    {
     "data": {
      "application/vnd.jupyter.widget-view+json": {
       "model_id": "f47a3311eeca4c6d923ce946da8e31d7",
       "version_major": 2,
       "version_minor": 0
      },
      "text/plain": [
       "Validando:   0%|          | 0/1 [00:00<?, ?it/s]"
      ]
     },
     "metadata": {},
     "output_type": "display_data"
    },
    {
     "name": "stdout",
     "output_type": "stream",
     "text": [
      "Treino - Perda: 1.4376, Acurácia: 0.8125\n",
      "Validação - Perda: 0.0002, Acurácia: 1.0000\n",
      "\n",
      "Época 15/30\n"
     ]
    },
    {
     "data": {
      "application/vnd.jupyter.widget-view+json": {
       "model_id": "0a2216ee88b04045b846aaec5159f2ba",
       "version_major": 2,
       "version_minor": 0
      },
      "text/plain": [
       "Treinando:   0%|          | 0/4 [00:00<?, ?it/s]"
      ]
     },
     "metadata": {},
     "output_type": "display_data"
    },
    {
     "data": {
      "application/vnd.jupyter.widget-view+json": {
       "model_id": "2c2bddf1cb9141a8aff4e2360ecf3b95",
       "version_major": 2,
       "version_minor": 0
      },
      "text/plain": [
       "Validando:   0%|          | 0/1 [00:00<?, ?it/s]"
      ]
     },
     "metadata": {},
     "output_type": "display_data"
    },
    {
     "name": "stdout",
     "output_type": "stream",
     "text": [
      "Treino - Perda: 4.3378, Acurácia: 0.8750\n",
      "Validação - Perda: 0.0007, Acurácia: 1.0000\n",
      "\n",
      "Época 16/30\n"
     ]
    },
    {
     "data": {
      "application/vnd.jupyter.widget-view+json": {
       "model_id": "9dc1d4bec2f740c6946d8be84598ae52",
       "version_major": 2,
       "version_minor": 0
      },
      "text/plain": [
       "Treinando:   0%|          | 0/4 [00:00<?, ?it/s]"
      ]
     },
     "metadata": {},
     "output_type": "display_data"
    },
    {
     "data": {
      "application/vnd.jupyter.widget-view+json": {
       "model_id": "916b5c9d02d74801b8b5eaf5c35682a8",
       "version_major": 2,
       "version_minor": 0
      },
      "text/plain": [
       "Validando:   0%|          | 0/1 [00:00<?, ?it/s]"
      ]
     },
     "metadata": {},
     "output_type": "display_data"
    },
    {
     "name": "stdout",
     "output_type": "stream",
     "text": [
      "Treino - Perda: 0.3534, Acurácia: 0.9219\n",
      "Validação - Perda: 0.0039, Acurácia: 1.0000\n",
      "\n",
      "Época 17/30\n"
     ]
    },
    {
     "data": {
      "application/vnd.jupyter.widget-view+json": {
       "model_id": "b59cf40805654485999c38beddbd6afa",
       "version_major": 2,
       "version_minor": 0
      },
      "text/plain": [
       "Treinando:   0%|          | 0/4 [00:00<?, ?it/s]"
      ]
     },
     "metadata": {},
     "output_type": "display_data"
    },
    {
     "data": {
      "application/vnd.jupyter.widget-view+json": {
       "model_id": "097bbc126c324c60a6f8d1e72b545722",
       "version_major": 2,
       "version_minor": 0
      },
      "text/plain": [
       "Validando:   0%|          | 0/1 [00:00<?, ?it/s]"
      ]
     },
     "metadata": {},
     "output_type": "display_data"
    },
    {
     "name": "stdout",
     "output_type": "stream",
     "text": [
      "Treino - Perda: 3.9297, Acurácia: 0.7969\n",
      "Validação - Perda: 0.0052, Acurácia: 1.0000\n",
      "\n",
      "Época 18/30\n"
     ]
    },
    {
     "data": {
      "application/vnd.jupyter.widget-view+json": {
       "model_id": "79b69b7371c94a7aaa59e01233a0ccde",
       "version_major": 2,
       "version_minor": 0
      },
      "text/plain": [
       "Treinando:   0%|          | 0/4 [00:00<?, ?it/s]"
      ]
     },
     "metadata": {},
     "output_type": "display_data"
    },
    {
     "data": {
      "application/vnd.jupyter.widget-view+json": {
       "model_id": "36a0e9d682f44142b1836f8f18c4c85b",
       "version_major": 2,
       "version_minor": 0
      },
      "text/plain": [
       "Validando:   0%|          | 0/1 [00:00<?, ?it/s]"
      ]
     },
     "metadata": {},
     "output_type": "display_data"
    },
    {
     "name": "stdout",
     "output_type": "stream",
     "text": [
      "Treino - Perda: 0.5403, Acurácia: 0.9219\n",
      "Validação - Perda: 0.0057, Acurácia: 1.0000\n",
      "\n",
      "Época 19/30\n"
     ]
    },
    {
     "data": {
      "application/vnd.jupyter.widget-view+json": {
       "model_id": "0c08db6af2a242cdbe41435b653d224f",
       "version_major": 2,
       "version_minor": 0
      },
      "text/plain": [
       "Treinando:   0%|          | 0/4 [00:00<?, ?it/s]"
      ]
     },
     "metadata": {},
     "output_type": "display_data"
    },
    {
     "data": {
      "application/vnd.jupyter.widget-view+json": {
       "model_id": "ba8a559b8c99479a9838016977d8d33b",
       "version_major": 2,
       "version_minor": 0
      },
      "text/plain": [
       "Validando:   0%|          | 0/1 [00:00<?, ?it/s]"
      ]
     },
     "metadata": {},
     "output_type": "display_data"
    },
    {
     "name": "stdout",
     "output_type": "stream",
     "text": [
      "Treino - Perda: 2.7072, Acurácia: 0.8906\n",
      "Validação - Perda: 0.0060, Acurácia: 1.0000\n",
      "\n",
      "Época 20/30\n"
     ]
    },
    {
     "data": {
      "application/vnd.jupyter.widget-view+json": {
       "model_id": "5160c9f4c13c48778d5380c345024de1",
       "version_major": 2,
       "version_minor": 0
      },
      "text/plain": [
       "Treinando:   0%|          | 0/4 [00:00<?, ?it/s]"
      ]
     },
     "metadata": {},
     "output_type": "display_data"
    },
    {
     "data": {
      "application/vnd.jupyter.widget-view+json": {
       "model_id": "a3d3f2da7c2240eba803510ce221a0a0",
       "version_major": 2,
       "version_minor": 0
      },
      "text/plain": [
       "Validando:   0%|          | 0/1 [00:00<?, ?it/s]"
      ]
     },
     "metadata": {},
     "output_type": "display_data"
    },
    {
     "name": "stdout",
     "output_type": "stream",
     "text": [
      "Treino - Perda: 2.7955, Acurácia: 0.7812\n",
      "Validação - Perda: 0.0092, Acurácia: 1.0000\n",
      "\n",
      "Época 21/30\n"
     ]
    },
    {
     "data": {
      "application/vnd.jupyter.widget-view+json": {
       "model_id": "3141b204dd6c4f05861c9b8fbcb6aa17",
       "version_major": 2,
       "version_minor": 0
      },
      "text/plain": [
       "Treinando:   0%|          | 0/4 [00:00<?, ?it/s]"
      ]
     },
     "metadata": {},
     "output_type": "display_data"
    },
    {
     "data": {
      "application/vnd.jupyter.widget-view+json": {
       "model_id": "36bff4411dda40fd929dd74a5a536211",
       "version_major": 2,
       "version_minor": 0
      },
      "text/plain": [
       "Validando:   0%|          | 0/1 [00:00<?, ?it/s]"
      ]
     },
     "metadata": {},
     "output_type": "display_data"
    },
    {
     "name": "stdout",
     "output_type": "stream",
     "text": [
      "Treino - Perda: 3.0618, Acurácia: 0.8906\n",
      "Validação - Perda: 0.0136, Acurácia: 1.0000\n",
      "\n",
      "Época 22/30\n"
     ]
    },
    {
     "data": {
      "application/vnd.jupyter.widget-view+json": {
       "model_id": "bb8ccd384b3a4c569278debdb24d8777",
       "version_major": 2,
       "version_minor": 0
      },
      "text/plain": [
       "Treinando:   0%|          | 0/4 [00:00<?, ?it/s]"
      ]
     },
     "metadata": {},
     "output_type": "display_data"
    },
    {
     "data": {
      "application/vnd.jupyter.widget-view+json": {
       "model_id": "16fba64d6f1e491b9f98be937ba0012a",
       "version_major": 2,
       "version_minor": 0
      },
      "text/plain": [
       "Validando:   0%|          | 0/1 [00:00<?, ?it/s]"
      ]
     },
     "metadata": {},
     "output_type": "display_data"
    },
    {
     "name": "stdout",
     "output_type": "stream",
     "text": [
      "Treino - Perda: 1.5569, Acurácia: 0.8906\n",
      "Validação - Perda: 0.0098, Acurácia: 1.0000\n",
      "\n",
      "Época 23/30\n"
     ]
    },
    {
     "data": {
      "application/vnd.jupyter.widget-view+json": {
       "model_id": "204dd2720c7142379b9bdd5df7bc1a76",
       "version_major": 2,
       "version_minor": 0
      },
      "text/plain": [
       "Treinando:   0%|          | 0/4 [00:00<?, ?it/s]"
      ]
     },
     "metadata": {},
     "output_type": "display_data"
    },
    {
     "data": {
      "application/vnd.jupyter.widget-view+json": {
       "model_id": "a18f21f6527b4ba5aa4b6627de7df24a",
       "version_major": 2,
       "version_minor": 0
      },
      "text/plain": [
       "Validando:   0%|          | 0/1 [00:00<?, ?it/s]"
      ]
     },
     "metadata": {},
     "output_type": "display_data"
    },
    {
     "name": "stdout",
     "output_type": "stream",
     "text": [
      "Treino - Perda: 1.6737, Acurácia: 0.8281\n",
      "Validação - Perda: 0.0134, Acurácia: 1.0000\n",
      "\n",
      "Época 24/30\n"
     ]
    },
    {
     "data": {
      "application/vnd.jupyter.widget-view+json": {
       "model_id": "4b9ab10e6aa640908a7603c517d7e025",
       "version_major": 2,
       "version_minor": 0
      },
      "text/plain": [
       "Treinando:   0%|          | 0/4 [00:00<?, ?it/s]"
      ]
     },
     "metadata": {},
     "output_type": "display_data"
    }
   ],
   "source": [
    "# Treinar o modelo\n",
    "num_epochs = 30\n",
    "best_val_loss = float('inf')\n",
    "best_model_path = '../models/cnn/cnn_best.pt'\n",
    "\n",
    "# Criar diretório para salvar o modelo\n",
    "os.makedirs('../models/cnn', exist_ok=True)\n",
    "\n",
    "# Listas para armazenar métricas\n",
    "train_losses = []\n",
    "train_accs = []\n",
    "val_losses = []\n",
    "val_accs = []\n",
    "\n",
    "# Medir o tempo de treinamento\n",
    "start_time = time.time()\n",
    "\n",
    "# Loop de treinamento\n",
    "for epoch in range(num_epochs):\n",
    "    print(f\"Época {epoch+1}/{num_epochs}\")\n",
    "    \n",
    "    # Treinar uma época\n",
    "    train_loss, train_acc = train_epoch(model, train_loader, criterion, optimizer, device)\n",
    "    train_losses.append(train_loss)\n",
    "    train_accs.append(train_acc)\n",
    "    \n",
    "    # Validar\n",
    "    val_loss, val_acc = validate(model, val_loader, criterion, device)\n",
    "    val_losses.append(val_loss)\n",
    "    val_accs.append(val_acc)\n",
    "    \n",
    "    # Atualizar o scheduler\n",
    "    scheduler.step(val_loss)\n",
    "    \n",
    "    # Imprimir estatísticas\n",
    "    print(f\"Treino - Perda: {train_loss:.4f}, Acurácia: {train_acc:.4f}\")\n",
    "    print(f\"Validação - Perda: {val_loss:.4f}, Acurácia: {val_acc:.4f}\")\n",
    "    \n",
    "    # Salvar o melhor modelo\n",
    "    if val_loss < best_val_loss:\n",
    "        best_val_loss = val_loss\n",
    "        torch.save(model.state_dict(), best_model_path)\n",
    "        print(f\"Modelo salvo em {best_model_path}\")\n",
    "    \n",
    "    print()\n",
    "\n",
    "# Calcular o tempo total de treinamento\n",
    "training_time = time.time() - start_time\n",
    "print(f\"Tempo total de treinamento: {training_time:.2f} segundos\")"
   ]
  },
  {
   "cell_type": "markdown",
   "metadata": {},
   "source": [
    "## 4. Visualização das Curvas de Aprendizado\n",
    "\n",
    "Vamos visualizar as curvas de aprendizado do modelo durante o treinamento."
   ]
  },
  {
   "cell_type": "code",
   "execution_count": null,
   "metadata": {},
   "outputs": [],
   "source": [
    "# Plotar as curvas de aprendizado\n",
    "plt.figure(figsize=(12, 5))\n",
    "\n",
    "# Plotar a perda\n",
    "plt.subplot(1, 2, 1)\n",
    "plt.plot(train_losses, label='Treino')\n",
    "plt.plot(val_losses, label='Validação')\n",
    "plt.xlabel('Época')\n",
    "plt.ylabel('Perda')\n",
    "plt.title('Curva de Perda')\n",
    "plt.legend()\n",
    "plt.grid(True)\n",
    "\n",
    "# Plotar a acurácia\n",
    "plt.subplot(1, 2, 2)\n",
    "plt.plot(train_accs, label='Treino')\n",
    "plt.plot(val_accs, label='Validação')\n",
    "plt.xlabel('Época')\n",
    "plt.ylabel('Acurácia')\n",
    "plt.title('Curva de Acurácia')\n",
    "plt.legend()\n",
    "plt.grid(True)\n",
    "\n",
    "plt.tight_layout()\n",
    "plt.show()"
   ]
  },
  {
   "cell_type": "markdown",
   "metadata": {},
   "source": [
    "## 5. Salvando os Resultados do Treinamento\n",
    "\n",
    "Vamos salvar as métricas de treinamento para uso na terceira parte do notebook."
   ]
  },
  {
   "cell_type": "code",
   "execution_count": null,
   "metadata": {},
   "outputs": [],
   "source": [
    "# Salvar as métricas de treinamento\n",
    "training_metrics = {\n",
    "    'train_losses': train_losses,\n",
    "    'train_accs': train_accs,\n",
    "    'val_losses': val_losses,\n",
    "    'val_accs': val_accs,\n",
    "    'training_time': training_time\n",
    "}\n",
    "\n",
    "# Salvar as métricas usando numpy\n",
    "np.save('../models/cnn/cnn_training_metrics.npy', training_metrics)\n",
    "print(\"Métricas de treinamento salvas em '../models/cnn/cnn_training_metrics.npy'\")\n",
    "\n",
    "print(\"\\nTudo pronto para a avaliação na Parte 3!\")"
   ]
  },
  {
   "cell_type": "markdown",
   "metadata": {},
   "source": [
    "## 6. Próximos Passos\n",
    "\n",
    "Na próxima parte (Parte 3), vamos:\n",
    "1. Avaliar o desempenho do modelo no conjunto de teste\n",
    "2. Visualizar algumas predições\n",
    "3. Comparar o desempenho com os modelos YOLO"
   ]
  }
 ],
 "metadata": {
  "kernelspec": {
   "display_name": "Python 3 (ipykernel)",
   "language": "python",
   "name": "python3"
  },
  "language_info": {
   "codemirror_mode": {
    "name": "ipython",
    "version": 3
   },
   "file_extension": ".py",
   "mimetype": "text/x-python",
   "name": "python",
   "nbconvert_exporter": "python",
   "pygments_lexer": "ipython3",
   "version": "3.12.6"
  }
 },
 "nbformat": 4,
 "nbformat_minor": 4
}
